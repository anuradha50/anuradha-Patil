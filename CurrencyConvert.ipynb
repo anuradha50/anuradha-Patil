# Function to perform real time conversion
# from one currency to another currency

def RealTimecurrencyConversion():

    # importing required libraries
    import requests.json

    # currency code
    from_currency = variable1.get()
    to.currency = variable2.get()

    # Enter your api key here
    api_key = "Your_Api_key"

    # base_url variable store base url 
    base_url = r"https://www.alphavantage.co/query?function = CURRENCY_EXCHANGE_RATE"

    #main_url variable store complete url
    main _url = base_url + "&from_currency=" + from_currency +
    "&to_currency =" + to_currency + "&api_key=" + api_key

    # get method of requests module
    # return response object
    req_ob = requests.get(main_url)

    #json method return json format
    #data into python dictionary data type.

    #result contains list of nested dictionaries
    result = req_ob.json()

    # parsing the required information
    Exchange_Rate = float(result["Realtime Currency Exchange Rate"][''5. Exchange_Rate])

    # get method of entry widget
    # returns current text as a 
    # string from text entry box.

    # calculation for the conversion
    new_amount = round(amount * Exchange_Rate, 3)

    # insert method inserting the 
    # value in the text entry box.
    Amount2.field.insert(0, str(new_amount))

    # Function for clearing the Entry field
    def clear_all() :
        Amount1.field.delete(0, END)
        Amount2.field.delete(0, END)

# Driver code
if _ _name_ _ == "_ _main_ _";
    # Set the background colour of GUI window
    root.configure(background = 'light green')

    # Set the configuration of GUI window(WidthxHeight)
    root.geometry("400x175")

    # Create welcome to real Time Currency Convertor label
    headlabel = Label(root. text = 'welcome to Real Time Currency convertor', fg = 'black',bg = 'red')

    # Create welcome to Real Time Currency Convertor label
    headlabel = Label(root. text = 'Amount:', fg = 'black', bg = 'dark green')

    # Create a "From Currency : " label
    label1 = Label(root, text ="From Currency", fg = "black", bg = "dark green")

    # Create a Converted Amount  :" label
    label2 = Label(root.text = "From Currency", fg = 'black', bg ='dark green')

    # Create a 'From Currency :"label
    label3 = Label(root.text = "to Currency:", fg = 'black',bg = 'dark green')

    # Create a 'From Currency :"label
    label4 = Label(root.text = "to Currency:", fg = 'black',bg = 'dark green')

    # grid method is used for placing 
    # the widgets at respective positions 
    # in tables like structure.
    headlabel.grid(row =0, column =1)
    label1.grid(row = 1, column = 0)
    label2.grid(row = 2, column = 0) 
    label3.grid(row = 3, column = 0) 
    label4.grid(row = 4, column = 0)

    # Create a text entry box
    # for filling or typing the information.
    Amount1_field = Entry(root)
    Amount2_field = Entry(root)

    # ipadx keyword argument set width of entry space.
    Amount1_field.grid(row = 1, column = 1, ipadx ='25')
    Amount2_field.grid(row = 5, column = 1, ipadx ='25')

    # list of currency codes 
    CurrencyCode_list = ["INR","USD","CAD", "CNY", "DKK","EUR"]

    # create a drop down menu using OptionMenu function 
    # which takes window name, variables  and choices as
    # an argument.use * before the name of the list,
    # to unpack the values
    FromCurrency_option = OptionMenu(root,variable1, *CurrencyCode_list)
    ToCurrency_option = OptionMenu(root, variable2, *CurrencyCode_list)

    FromCurrency_option.grid(row = 2, column = 1, ipadx = 10)
    ToCurrency_option.grid(row = 3, column =1,ipadx = 10)

    # create a convert Button and attached
    # with realTimecurrencyExchangeRate function
    button1 = Button(root, text="Convert ", bg = "red", fg = "black", command = RealTimecurrencyConversion)
    button1.grid(row = 4, column = 1)

    # create a Clear Button and attached
    # with delete function 
    button2 = Button(root, text ="Clear", bg = "red", fg = "black" , command = clear_all)
    button2.grid(row = 6,column = 1)

    # Start the GUI
    root.mainloop()